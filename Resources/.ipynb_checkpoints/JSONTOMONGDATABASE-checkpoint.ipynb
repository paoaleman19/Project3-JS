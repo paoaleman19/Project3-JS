{
 "cells": [
  {
   "cell_type": "code",
   "execution_count": 2,
   "id": "edd6f97f",
   "metadata": {},
   "outputs": [],
   "source": [
    "import csv\n",
    "import json\n",
    "from pymongo import MongoClient\n",
    "from pprint import pprint\n",
    "import pandas as pd\n",
    "\n",
    "\n"
   ]
  },
  {
   "cell_type": "code",
   "execution_count": 3,
   "id": "90b528a8",
   "metadata": {},
   "outputs": [],
   "source": [
    "csv_file_path = 'cscpopendata.csv'\n",
    "json_file_path = 'data.json'\n",
    "\n",
    "# Read CSV file and convert it to a list of dictionaries\n",
    "with open(csv_file_path, 'r') as csv_file:\n",
    "    csv_reader = csv.DictReader(csv_file)\n",
    "    data = [row for row in csv_reader]\n",
    "\n",
    "# Write the list of dictionaries to a JSON file with indentation\n",
    "with open(json_file_path, 'w') as json_file:\n",
    "    json.dump(data, json_file, indent=4)\n",
    "    \n",
    "# Then we create a database taking the info from data.json with this command\n",
    "# /Users/cesarcruz/Documents/BOOTCAMP/data/mongoimport --type json -d project3 -c census --drop --jsonArray data.json"
   ]
  },
  {
   "cell_type": "code",
   "execution_count": 3,
   "id": "90a9e8a9",
   "metadata": {},
   "outputs": [],
   "source": [
    "# Calling the database\n",
    "# Create an instance of MongoClient\n",
    "mongo = MongoClient(port=27017)\n"
   ]
  },
  {
   "cell_type": "code",
   "execution_count": 4,
   "id": "df6e5083",
   "metadata": {},
   "outputs": [],
   "source": [
    "# assign the uk_food database to a variable name\n",
    "db = mongo['project3']"
   ]
  },
  {
   "cell_type": "code",
   "execution_count": 5,
   "id": "9efd2d99",
   "metadata": {},
   "outputs": [
    {
     "name": "stdout",
     "output_type": "stream",
     "text": [
      "['census']\n"
     ]
    }
   ],
   "source": [
    "# review the collections in our database\n",
    "print(db.list_collection_names())"
   ]
  },
  {
   "cell_type": "code",
   "execution_count": 6,
   "id": "799ba952",
   "metadata": {},
   "outputs": [
    {
     "name": "stdout",
     "output_type": "stream",
     "text": [
      "{'_id': ObjectId('6449e4eed6c806bdbd2c3e64'), 'CDPHId': '3', 'ProductName': \"Glover's Medicated Shampoo\", 'CSFId': '', 'CSF': '', 'CompanyId': '338', 'CompanyName': 'J. Strickland & Co.', 'BrandName': \"Glover's\", 'PrimaryCategoryId': '18', 'PrimaryCategory': 'Hair Care Products (non-coloring)', 'SubCategoryId': '25', 'SubCategory': 'Hair Shampoos (making a cosmetic claim) ', 'CasId': '889', 'CasNumber': '65996-92-1', 'ChemicalId': '4', 'ChemicalName': 'Distillates (coal tar)', 'InitialDateReported': '07/01/2009', 'MostRecentDateReported': '07/01/2009', 'DiscontinuedDate': '', 'ChemicalCreatedAt': '07/01/2009', 'ChemicalUpdatedAt': '07/01/2009', 'ChemicalDateRemoved': '', 'ChemicalCount': '2'}\n",
      "{'_id': ObjectId('6449e4eed6c806bdbd2c3e65'), 'CDPHId': '3', 'ProductName': \"Glover's Medicated Shampoo\", 'CSFId': '', 'CSF': '', 'CompanyId': '338', 'CompanyName': 'J. Strickland & Co.', 'BrandName': \"Glover's\", 'PrimaryCategoryId': '18', 'PrimaryCategory': 'Hair Care Products (non-coloring)', 'SubCategoryId': '25', 'SubCategory': 'Hair Shampoos (making a cosmetic claim) ', 'CasId': '293', 'CasNumber': '140-67-0', 'ChemicalId': '5', 'ChemicalName': 'Estragole', 'InitialDateReported': '07/01/2009', 'MostRecentDateReported': '07/01/2009', 'DiscontinuedDate': '', 'ChemicalCreatedAt': '07/02/2009', 'ChemicalUpdatedAt': '07/02/2009', 'ChemicalDateRemoved': '', 'ChemicalCount': '2'}\n",
      "{'_id': ObjectId('6449e4eed6c806bdbd2c3e66'), 'CDPHId': '2', 'ProductName': 'ULTRA COLOR RICH EXTRA PLUMP LIPSTICK-ALL SHADES', 'CSFId': '', 'CSF': '', 'CompanyId': '4', 'CompanyName': 'New Avon LLC', 'BrandName': 'AVON', 'PrimaryCategoryId': '44', 'PrimaryCategory': 'Makeup Products (non-permanent)', 'SubCategoryId': '53', 'SubCategory': 'Lip Color - Lipsticks, Liners, and Pencils', 'CasId': '656', 'CasNumber': '13463-67-7', 'ChemicalId': '6', 'ChemicalName': 'Titanium dioxide', 'InitialDateReported': '06/17/2009', 'MostRecentDateReported': '08/28/2013', 'DiscontinuedDate': '02/01/2011', 'ChemicalCreatedAt': '07/09/2009', 'ChemicalUpdatedAt': '07/09/2009', 'ChemicalDateRemoved': '', 'ChemicalCount': '1'}\n",
      "{'_id': ObjectId('6449e4eed6c806bdbd2c3e67'), 'CDPHId': '5', 'ProductName': 'AVON BRILLIANT SHINE LIP GLOSS-ALL SHADES �', 'CSFId': '', 'CSF': '', 'CompanyId': '4', 'CompanyName': 'New Avon LLC', 'BrandName': 'AVON', 'PrimaryCategoryId': '44', 'PrimaryCategory': 'Makeup Products (non-permanent)', 'SubCategoryId': '52', 'SubCategory': 'Lip Gloss/Shine', 'CasId': '656', 'CasNumber': '13463-67-7', 'ChemicalId': '8', 'ChemicalName': 'Titanium dioxide', 'InitialDateReported': '07/09/2009', 'MostRecentDateReported': '08/28/2013', 'DiscontinuedDate': '02/01/2011', 'ChemicalCreatedAt': '07/09/2009', 'ChemicalUpdatedAt': '07/09/2009', 'ChemicalDateRemoved': '', 'ChemicalCount': '1'}\n",
      "{'_id': ObjectId('6449e4eed6c806bdbd2c3e68'), 'CDPHId': '4', 'ProductName': 'PRECISION GLIMMER EYE LINER-ALL SHADES �', 'CSFId': '', 'CSF': '', 'CompanyId': '4', 'CompanyName': 'New Avon LLC', 'BrandName': 'AVON', 'PrimaryCategoryId': '44', 'PrimaryCategory': 'Makeup Products (non-permanent)', 'SubCategoryId': '46', 'SubCategory': 'Eyeliner/Eyebrow Pencils', 'CasId': '656', 'CasNumber': '13463-67-7', 'ChemicalId': '7', 'ChemicalName': 'Titanium dioxide', 'InitialDateReported': '07/09/2009', 'MostRecentDateReported': '08/28/2013', 'DiscontinuedDate': '', 'ChemicalCreatedAt': '07/09/2009', 'ChemicalUpdatedAt': '07/09/2009', 'ChemicalDateRemoved': '', 'ChemicalCount': '1'}\n",
      "{'_id': ObjectId('6449e4eed6c806bdbd2c3e69'), 'CDPHId': '6', 'ProductName': 'JILLIAN DEMPSEY FOR AVON CELESTIAL EYESHADOW-ALL SHADES �', 'CSFId': '', 'CSF': '', 'CompanyId': '4', 'CompanyName': 'New Avon LLC', 'BrandName': 'AVON', 'PrimaryCategoryId': '44', 'PrimaryCategory': 'Makeup Products (non-permanent)', 'SubCategoryId': '48', 'SubCategory': 'Eye Shadow', 'CasId': '656', 'CasNumber': '13463-67-7', 'ChemicalId': '9', 'ChemicalName': 'Titanium dioxide', 'InitialDateReported': '07/09/2009', 'MostRecentDateReported': '08/28/2013', 'DiscontinuedDate': '11/01/2010', 'ChemicalCreatedAt': '07/09/2009', 'ChemicalUpdatedAt': '07/09/2009', 'ChemicalDateRemoved': '', 'ChemicalCount': '1'}\n",
      "{'_id': ObjectId('6449e4eed6c806bdbd2c3e6a'), 'CDPHId': '7', 'ProductName': 'ABSOLUTE Precision Color Powder System - All Shades', 'CSFId': '310', 'CSF': '5858-81-1', 'CompanyId': '11', 'CompanyName': 'OPI PRODUCTS INC.', 'BrandName': 'OPI', 'PrimaryCategoryId': '59', 'PrimaryCategory': 'Nail Products', 'SubCategoryId': '60', 'SubCategory': 'Artificial Nails and Related Products', 'CasId': '656', 'CasNumber': '13463-67-7', 'ChemicalId': '12178', 'ChemicalName': 'Titanium dioxide', 'InitialDateReported': '07/13/2009', 'MostRecentDateReported': '12/30/2010', 'DiscontinuedDate': '', 'ChemicalCreatedAt': '12/04/2009', 'ChemicalUpdatedAt': '12/04/2009', 'ChemicalDateRemoved': '', 'ChemicalCount': '1'}\n",
      "{'_id': ObjectId('6449e4eed6c806bdbd2c3e6b'), 'CDPHId': '7', 'ProductName': 'ABSOLUTE Precision Color Powder System - All Shades', 'CSFId': '311', 'CSF': 'D&C RED 7 CALCIUM LAKE', 'CompanyId': '11', 'CompanyName': 'OPI PRODUCTS INC.', 'BrandName': 'OPI', 'PrimaryCategoryId': '59', 'PrimaryCategory': 'Nail Products', 'SubCategoryId': '60', 'SubCategory': 'Artificial Nails and Related Products', 'CasId': '656', 'CasNumber': '13463-67-7', 'ChemicalId': '12178', 'ChemicalName': 'Titanium dioxide', 'InitialDateReported': '07/13/2009', 'MostRecentDateReported': '12/30/2010', 'DiscontinuedDate': '', 'ChemicalCreatedAt': '12/04/2009', 'ChemicalUpdatedAt': '12/04/2009', 'ChemicalDateRemoved': '', 'ChemicalCount': '1'}\n",
      "{'_id': ObjectId('6449e4eed6c806bdbd2c3e6c'), 'CDPHId': '7', 'ProductName': 'ABSOLUTE Precision Color Powder System - All Shades', 'CSFId': '312', 'CSF': 'D&C RED 28', 'CompanyId': '11', 'CompanyName': 'OPI PRODUCTS INC.', 'BrandName': 'OPI', 'PrimaryCategoryId': '59', 'PrimaryCategory': 'Nail Products', 'SubCategoryId': '60', 'SubCategory': 'Artificial Nails and Related Products', 'CasId': '656', 'CasNumber': '13463-67-7', 'ChemicalId': '12178', 'ChemicalName': 'Titanium dioxide', 'InitialDateReported': '07/13/2009', 'MostRecentDateReported': '12/30/2010', 'DiscontinuedDate': '', 'ChemicalCreatedAt': '12/04/2009', 'ChemicalUpdatedAt': '12/04/2009', 'ChemicalDateRemoved': '', 'ChemicalCount': '1'}\n",
      "{'_id': ObjectId('6449e4eed6c806bdbd2c3e6d'), 'CDPHId': '9', 'ProductName': 'ABSOLUTE Precesion Color Powder System Perfect White', 'CSFId': '', 'CSF': '', 'CompanyId': '11', 'CompanyName': 'OPI PRODUCTS INC.', 'BrandName': 'ABSOLUTE', 'PrimaryCategoryId': '59', 'PrimaryCategory': 'Nail Products', 'SubCategoryId': '60', 'SubCategory': 'Artificial Nails and Related Products', 'CasId': '656', 'CasNumber': '13463-67-7', 'ChemicalId': '17909', 'ChemicalName': 'Titanium dioxide', 'InitialDateReported': '07/13/2009', 'MostRecentDateReported': '06/09/2010', 'DiscontinuedDate': '', 'ChemicalCreatedAt': '06/09/2010', 'ChemicalUpdatedAt': '06/09/2010', 'ChemicalDateRemoved': '', 'ChemicalCount': '1'}\n"
     ]
    }
   ],
   "source": [
    "# Get a sample of the data from a collection\n",
    "sample_data = db['census'].find().limit(10)\n",
    "\n",
    "# Loop through the sample data and print each document\n",
    "for doc in sample_data:\n",
    "    print(doc)"
   ]
  },
  {
   "cell_type": "code",
   "execution_count": 6,
   "id": "c83ee6e4",
   "metadata": {},
   "outputs": [
    {
     "name": "stdout",
     "output_type": "stream",
     "text": [
      "{'BrandName': \"Glover's\",\n",
      " 'CDPHId': '3',\n",
      " 'CSF': '',\n",
      " 'CSFId': '',\n",
      " 'CasId': '889',\n",
      " 'CasNumber': '65996-92-1',\n",
      " 'ChemicalCount': '2',\n",
      " 'ChemicalCreatedAt': '07/01/2009',\n",
      " 'ChemicalDateRemoved': '',\n",
      " 'ChemicalId': '4',\n",
      " 'ChemicalName': 'Distillates (coal tar)',\n",
      " 'ChemicalUpdatedAt': '07/01/2009',\n",
      " 'CompanyId': '338',\n",
      " 'CompanyName': 'J. Strickland & Co.',\n",
      " 'DiscontinuedDate': '',\n",
      " 'InitialDateReported': '07/01/2009',\n",
      " 'MostRecentDateReported': '07/01/2009',\n",
      " 'PrimaryCategory': 'Hair Care Products (non-coloring)',\n",
      " 'PrimaryCategoryId': '18',\n",
      " 'ProductName': \"Glover's Medicated Shampoo\",\n",
      " 'SubCategory': 'Hair Shampoos (making a cosmetic claim) ',\n",
      " 'SubCategoryId': '25',\n",
      " '_id': ObjectId('6449e4eed6c806bdbd2c3e64')}\n"
     ]
    }
   ],
   "source": [
    "collection = db['census']\n",
    "document = collection.find_one()\n",
    "pprint(document)"
   ]
  },
  {
   "cell_type": "code",
   "execution_count": null,
   "id": "e77099ee",
   "metadata": {},
   "outputs": [],
   "source": []
  }
 ],
 "metadata": {
  "kernelspec": {
   "display_name": "Python 3 (ipykernel)",
   "language": "python",
   "name": "python3"
  },
  "language_info": {
   "codemirror_mode": {
    "name": "ipython",
    "version": 3
   },
   "file_extension": ".py",
   "mimetype": "text/x-python",
   "name": "python",
   "nbconvert_exporter": "python",
   "pygments_lexer": "ipython3",
   "version": "3.7.7"
  }
 },
 "nbformat": 4,
 "nbformat_minor": 5
}
